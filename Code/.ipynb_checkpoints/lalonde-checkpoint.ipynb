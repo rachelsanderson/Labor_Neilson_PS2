{
 "cells": [
  {
   "cell_type": "raw",
   "metadata": {},
   "source": [
    "<script>\n",
    "  function code_toggle() {\n",
    "    if (code_shown){\n",
    "      $('div.input').hide('500');\n",
    "      $('#toggleButton').val('Show Code')\n",
    "    } else {\n",
    "      $('div.input').show('500');\n",
    "      $('#toggleButton').val('Hide Code')\n",
    "    }\n",
    "    code_shown = !code_shown\n",
    "  }\n",
    "\n",
    "  $( document ).ready(function(){\n",
    "    code_shown=false;\n",
    "    $('div.input').hide()\n",
    "  });\n",
    "</script>\n",
    "<form action=\"javascript:code_toggle()\"><input type=\"submit\" id=\"toggleButton\" value=\"Show Code\"></form>"
   ]
  },
  {
   "cell_type": "markdown",
   "metadata": {},
   "source": [
    "### 1. Lalonde\n",
    "-----\n",
    "\n"
   ]
  },
  {
   "cell_type": "markdown",
   "metadata": {},
   "source": [
    "1. Let $D_i = 1$ if individual $i$ was treated, and $Y_i$ denote his or her income in 1975.  Then we can write the share of individuals with postiive earnings in 1975 in the treatment and control groups as:\n",
    "\n",
    "$$\\widehat{p}_{t} = \\frac{\\sum_{i} D_i \\unicode{x1D7D9}\\{Y_i >0\\}}{\\sum_i D_i}$$\n",
    "<p>\n",
    "$$\\widehat{p}_{c} = \\frac{\\sum_{i} (1-D_i) \\unicode{x1D7D9}\\{Y_i >0)\\}}{\\sum_i (1-D_i)}$$\n",
    "\n",
    "We can then formulate the null and alternative hypotheses to test that this proportion is the same in both groups:\n",
    "\n",
    "$$H_0: p_{t} = p_{c} \\hspace{20pt} H_A:  p_{t} \\neq p_{c}$$\n",
    "\n",
    "The test statistic is calculated as:\n",
    "\n",
    "$$t= \\frac{\\widehat{p}_{t} - \\widehat{p}_{c}}{\\sqrt{\\frac{\\widehat{p}_{t}(1-\\widehat{p}_t)}{N_t}+\\frac{\\widehat{p}_{c}(1-\\widehat{p}_c)}{N_c}}} $$\n",
    "\n",
    "where $N_t = \\sum_i D_i$ and $N_c = \\sum_i (1-D_i)$. \n",
    "<p>\n",
    "\n",
    "Using $\\widehat{p}_t = 0.4,\\ \\widehat{p}_c = 0.315,\\ N_t =185, \\ N_c = 260$ gives $t = 1.8343$.  The corresponding p-value for this statistic is PRINT IT HERE.\n"
   ]
  },
  {
   "cell_type": "code",
   "execution_count": 28,
   "metadata": {},
   "outputs": [],
   "source": [
    "using DelimitedFiles\n",
    "using LinearAlgebra\n",
    "\n",
    "dataDir = \"../Data/\"\n",
    "texDir = \"../TeX\"\n",
    "\n",
    "NSWRE74_CONTROL = readdlm(\"/Users/rachelanderson/Desktop/Dropbox/Labor/Neilson/PS/PS2/Data/nswre74_control.txt\")\n",
    "\n",
    "NSWRE74_TREATED = readdlm(\"/Users/rachelanderson/Desktop/Dropbox/Labor/Neilson/PS/PS2/Data/nswre74_treated.txt\")\n",
    "\n",
    "lalonde=[NSWRE74_TREATED; NSWRE74_CONTROL];\n",
    "\n",
    "treat=lalonde[:,1];\n",
    "\n",
    "age=lalonde[:,2];\n",
    "\n",
    "education=lalonde[:,3];\n",
    "\n",
    "black=lalonde[:,4];\n",
    "\n",
    "hispanic=lalonde[:,5];\n",
    "\n",
    "married=lalonde[:,6];\n",
    "\n",
    "nodegree=lalonde[:,7];\n",
    "\n",
    "re74=lalonde[:,8];\n",
    "\n",
    "re75=lalonde[:,9];\n",
    "\n",
    "re78=lalonde[:,10];\n"
   ]
  },
  {
   "cell_type": "code",
   "execution_count": 13,
   "metadata": {
    "collapsed": true
   },
   "outputs": [],
   "source": [
    "positiveEarnings = [lalonde for x in re75 if x >0];\n",
    "zeroEarnings = [lalonde for x in re75 if x==0];"
   ]
  },
  {
   "cell_type": "code",
   "execution_count": 14,
   "metadata": {
    "collapsed": true
   },
   "outputs": [],
   "source": [
    "nTreat = length([1 for x in treat if x == 1]);\n",
    "nControl = length([1 for x in treat if x == 0]);     \n",
    "\n",
    "nTreatWorking = length([val for (x,val) in enumerate(treat) if treat[x] == 1 && re75[x]>0]);\n",
    "nControlWorking = length([val for (x,val) in enumerate(treat) if treat[x] == 0 && re75[x]>0]);\n",
    "\n",
    "shareWorking_treat = nTreatWorking/nTreat;\n",
    "shareWorking_control = nControlWorking/nControl;\n",
    "\n",
    "varTreat = shareWorking_treat*(1-shareWorking_treat)/nTreat;\n",
    "varControl = shareWorking_control*(1-shareWorking_control)/nControl;\n",
    "\n",
    "tt = (shareWorking_treat-shareWorking_control)/sqrt(varTreat+varControl);"
   ]
  },
  {
   "cell_type": "code",
   "execution_count": 17,
   "metadata": {},
   "outputs": [
    {
     "data": {
      "text/plain": [
       "mean (generic function with 1 method)"
      ]
     },
     "execution_count": 17,
     "metadata": {},
     "output_type": "execute_result"
    }
   ],
   "source": [
    "function calc_var(x)\n",
    "    # input = array of observations x\n",
    "    dev = [(i - mean(x))^2 for i in x];\n",
    "    var = sum(dev)/(length(x)-1);\n",
    "    return var\n",
    "end\n",
    "\n",
    "function calc_se(x)\n",
    "    var = calc_var(x);\n",
    "    se = sqrt(var/length(x));\n",
    "    return se\n",
    "end\n",
    "\n",
    "function mean(x)\n",
    "    return (sum(x)/length(x));\n",
    "end"
   ]
  },
  {
   "cell_type": "markdown",
   "metadata": {},
   "source": [
    "2\\. Lalonde writes, \"[B]ecause of the NSW program's experimental design, the difference between the post-training earnings of the experimental groups is an unbiased estimator of the training effect,\" and so we can estimate the average treatment effect for those with postive wages in 1975 as:\n",
    "\n",
    "$$ATE_{w} = \\frac{1}{N_t}\\sum_i{D_i}Y_{1978,i}\\cdot\\unicode{x1D7D9}\\{Y_{1975,i} >0\\} - \\frac{1}{N_c}\\sum_i (1-D_i) Y_{1978,i}\\cdot\\unicode{x1D7D9}\\{Y_{1975,i} >0\\} $$ \n",
    "\n",
    "and the average treatment effect for those with zero wages in 1975 as:\n",
    "$$ATE_{nw} = \\frac{1}{N_t}\\sum_i{D_i}Y_{1978,i}\\cdot\\unicode{x1D7D9}\\{Y_{1975,i} = 0\\} - \\frac{1}{N_c}\\sum_i (1-D_i) Y_{1978,i}\\cdot\\unicode{x1D7D9}\\{Y_{1975,i} =0\\} $$ \n",
    "\n",
    "Given these definitions, \n",
    "\n",
    "$\\widehat{ATE}_w = \\$1,691.38$ and $\\widehat{ATE}_{nw} = \\$1,711.40$, and $SE(\\widehat{ATE}_w) = 11461.5$ (too big?)"
   ]
  },
  {
   "cell_type": "code",
   "execution_count": 18,
   "metadata": {},
   "outputs": [],
   "source": [
    "working_treat = [re78[x] for (x,val) in enumerate(treat) if treat[x] == 1 && re75[x]>0];\n",
    "working_control = [re78[x] for (x,val) in enumerate(treat) if treat[x] == 0 && re75[x]>0];\n",
    "notWorking_treat = [re78[x] for (x,val) in enumerate(treat) if treat[x] == 1 && re75[x]==0];\n",
    "notWorking_control = [re78[x] for (x,val) in enumerate(treat) if treat[x] == 0 && re75[x]==0];\n",
    "ATE_working75 = mean(working_treat) - mean(working_control);\n",
    "ATE_notWorking75 = mean(notWorking_treat)-mean(notWorking_control);\n",
    "seWorking = sqrt(calc_var(working_treat) + calc_var(working_control));\n",
    "seNotWorking = sqrt(calc_var(notWorking_treat) + calc_var(notWorking_control));                                             "
   ]
  },
  {
   "cell_type": "markdown",
   "metadata": {},
   "source": [
    "3\\.  Because the treatment was randomized, we can write the overall average treatment effect is $ E[Y_{1978,i} | D_i = 1] -  E[Y_{1978,i} | D_i = 0]$,  which gives $\\widehat{ATE}_{tot} = \\$1,794.34$, and $SE(\\widehat{ATE}_{tot}) = \\$9590.02$."
   ]
  },
  {
   "cell_type": "code",
   "execution_count": 19,
   "metadata": {
    "collapsed": true
   },
   "outputs": [],
   "source": [
    "meanTreat = [re78[x] for (x,val) in enumerate(treat) if treat[x] == 1];\n",
    "meanControl = [re78[x] for (x,val) in enumerate(treat) if treat[x] == 0];\n",
    "totalATE = mean(meanTreat)-mean(meanControl);\n",
    "totalSE = sqrt(calc_var(meanTreat) + calc_var(meanControl));"
   ]
  },
  {
   "cell_type": "markdown",
   "metadata": {},
   "source": [
    "4\\. We estimate the equation $Y_{1978,i} = \\beta_0 + \\beta_1 treat_i + \\epsilon_i $ with OLS and obtain:\n",
    "\n",
    "$$ \\begin{pmatrix} \\widehat{\\beta}_0 \\\\ \\widehat{\\beta}_1 \\end{pmatrix} = \\begin{pmatrix} 4554.80 \\\\  1794.34\\end{pmatrix}$$\n",
    "and \n",
    "$$ SE_{homo} \\begin{pmatrix} \\widehat{\\beta}_0 \\\\ \\widehat{\\beta}_1 \\end{pmatrix} = \\begin{pmatrix} 408.046\\\\ 632.853 \\end{pmatrix}, \\hspace{10pt} SE_{robust}\\begin{pmatrix} \\widehat{\\beta}_0 \\\\ \\widehat{\\beta}_1 \\end{pmatrix} = $$"
   ]
  },
  {
   "cell_type": "code",
   "execution_count": 20,
   "metadata": {},
   "outputs": [
    {
     "data": {
      "text/plain": [
       "get_robustSE (generic function with 1 method)"
      ]
     },
     "execution_count": 20,
     "metadata": {},
     "output_type": "execute_result"
    }
   ],
   "source": [
    "function do_ols(y,X)\n",
    "    beta=inv(X'*X)*X'*y;\n",
    "    se=get_SE(beta,y,X);\n",
    "    seRobust = get_robustSE(beta,y,X);\n",
    "    return(beta, se, seRobust)\n",
    "end\n",
    "\n",
    "function get_SE(beta,y,X)\n",
    "    n=length(y);\n",
    "    k = size(X)[2];\n",
    "    e = y - X*beta;\n",
    "    sig2 = e'*e/(n-k);\n",
    "    avar = inv(X'*X)*sig2;\n",
    "    return([sqrt(avar[i,i]) for i=1:k])\n",
    "end\n",
    "\n",
    "function get_robustSE(beta,y,X)\n",
    "    e = y-X*beta;\n",
    "    inner = diagm(0 => e.*e)\n",
    "\n",
    "    outer = np.dot(XXinv, tX)\n",
    "    \n",
    "    avar = np.dot(outer, inner)\n",
    "    avar = np.dot(avar, np.transpose(outer))\n",
    "    return 1\n",
    "end\n",
    "    "
   ]
  },
  {
   "cell_type": "code",
   "execution_count": 21,
   "metadata": {},
   "outputs": [],
   "source": [
    "y = re78;\n",
    "X = hcat(ones(length(y)), treat);\n",
    "beta, se, seRobust = do_ols(y,X);"
   ]
  },
  {
   "cell_type": "markdown",
   "metadata": {},
   "source": [
    "5\\. We estimate the equation $Y_{1978,i} = \\beta_0 + \\beta_1 treat_i + \\beta_2\\unicode{x1D7D9}\\{Y_{1975,i}>0\\} + \\beta_3 treat_i \\times \\unicode{x1D7D9}\\{Y_{1975,i}>0\\} + \\epsilon_i $ with OLS and obtain:\n",
    "\n",
    "$$ \\begin{pmatrix} \\widehat{\\beta}_0 \\\\ \\widehat{\\beta}_1 \\\\ \\widehat{\\beta}_2 \\\\ \\widehat{\\beta}_3 \\end{pmatrix} = \\begin{pmatrix} 4554.80 \\\\  1794.34\\end{pmatrix}$$\n",
    "and \n",
    "$$ SE_{homo} \\begin{pmatrix} \\widehat{\\beta}_0 \\\\ \\widehat{\\beta}_1 \\end{pmatrix} = \\begin{pmatrix} 408.046\\\\ 632.853 \\end{pmatrix}, \\hspace{10pt} SE_{robust}\\begin{pmatrix} \\widehat{\\beta}_0 \\\\ \\widehat{\\beta}_1 \\end{pmatrix} = $$"
   ]
  },
  {
   "cell_type": "code",
   "execution_count": 192,
   "metadata": {},
   "outputs": [
    {
     "data": {
      "text/plain": [
       "([4215.81, 1711.4, 1074.85, -20.0207], [492.8, 795.166, 877.506, 1320.46], 1)"
      ]
     },
     "execution_count": 192,
     "metadata": {},
     "output_type": "execute_result"
    }
   ],
   "source": [
    "posEarnings = [Int(x>0) for x in re75];\n",
    "Xlong = hcat(ones(length(y)),treat, posEarnings, treat.*posEarnings);\n",
    "do_ols(y,Xlong)"
   ]
  },
  {
   "cell_type": "code",
   "execution_count": 44,
   "metadata": {},
   "outputs": [
    {
     "data": {
      "text/plain": [
       "445×445 Array{Float64,2}:\n",
       " 1.28229e7  0.0        0.0        …  0.0        0.0        0.0      \n",
       " 0.0        7.58038e6  0.0           0.0        0.0        0.0      \n",
       " 0.0        0.0        3.44485e8     0.0        0.0        0.0      \n",
       " 0.0        0.0        0.0           0.0        0.0        0.0      \n",
       " 0.0        0.0        0.0           0.0        0.0        0.0      \n",
       " 0.0        0.0        0.0        …  0.0        0.0        0.0      \n",
       " 0.0        0.0        0.0           0.0        0.0        0.0      \n",
       " 0.0        0.0        0.0           0.0        0.0        0.0      \n",
       " 0.0        0.0        0.0           0.0        0.0        0.0      \n",
       " 0.0        0.0        0.0           0.0        0.0        0.0      \n",
       " 0.0        0.0        0.0        …  0.0        0.0        0.0      \n",
       " 0.0        0.0        0.0           0.0        0.0        0.0      \n",
       " 0.0        0.0        0.0           0.0        0.0        0.0      \n",
       " ⋮                                ⋱                                 \n",
       " 0.0        0.0        0.0           0.0        0.0        0.0      \n",
       " 0.0        0.0        0.0           0.0        0.0        0.0      \n",
       " 0.0        0.0        0.0        …  0.0        0.0        0.0      \n",
       " 0.0        0.0        0.0           0.0        0.0        0.0      \n",
       " 0.0        0.0        0.0           0.0        0.0        0.0      \n",
       " 0.0        0.0        0.0           0.0        0.0        0.0      \n",
       " 0.0        0.0        0.0           0.0        0.0        0.0      \n",
       " 0.0        0.0        0.0        …  0.0        0.0        0.0      \n",
       " 0.0        0.0        0.0           0.0        0.0        0.0      \n",
       " 0.0        0.0        0.0           1.52411e8  0.0        0.0      \n",
       " 0.0        0.0        0.0           0.0        7.77943e6  0.0      \n",
       " 0.0        0.0        0.0           0.0        0.0        7.99236e5"
      ]
     },
     "execution_count": 44,
     "metadata": {},
     "output_type": "execute_result"
    }
   ],
   "source": [
    "e = y-X*beta;\n",
    "inner = diagm(0 => e.*e)"
   ]
  },
  {
   "cell_type": "code",
   "execution_count": 23,
   "metadata": {
    "collapsed": true
   },
   "outputs": [],
   "source": []
  },
  {
   "cell_type": "code",
   "execution_count": null,
   "metadata": {
    "collapsed": true
   },
   "outputs": [],
   "source": []
  }
 ],
 "metadata": {
  "kernelspec": {
   "display_name": "Julia 1.0.1",
   "language": "julia",
   "name": "julia-1.0"
  },
  "language_info": {
   "file_extension": ".jl",
   "mimetype": "application/julia",
   "name": "julia",
   "version": "1.0.1"
  }
 },
 "nbformat": 4,
 "nbformat_minor": 2
}
